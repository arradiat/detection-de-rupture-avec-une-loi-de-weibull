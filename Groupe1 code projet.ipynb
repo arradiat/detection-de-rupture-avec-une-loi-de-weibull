{
 "cells": [
  {
   "cell_type": "code",
   "execution_count": 1,
   "metadata": {},
   "outputs": [],
   "source": [
    "import numpy as np\n",
    "import matplotlib.pyplot as plt\n",
    "import pandas \n",
    "\n",
    "from scipy.optimize import minimize\n",
    "from functools import partial\n",
    "\n",
    "\n",
    "import warnings\n",
    "warnings.filterwarnings(\"ignore\")\n",
    "from tqdm import tqdm_notebook as tqdm\n",
    "import math\n"
   ]
  },
  {
   "cell_type": "markdown",
   "metadata": {},
   "source": [
    "# Methode analytique "
   ]
  },
  {
   "cell_type": "code",
   "execution_count": 2,
   "metadata": {},
   "outputs": [],
   "source": [
    "\n",
    "def estimationAB(X):\n",
    "    \n",
    "    n=len(X)\n",
    "    hbar=np.zeros(n)\n",
    "    Ybar=np.zeros(n)\n",
    "    hbar_etoile=np.zeros(n)\n",
    "    Ybar_etoile=np.zeros(n)\n",
    "    A1_chap_nom=np.zeros(n)\n",
    "    A2_chap_nom=np.zeros(n)\n",
    "    A1_chap_denom=np.zeros(n)\n",
    "    A2_chap_denom=np.zeros(n)\n",
    "    A1_chap=np.zeros(n)\n",
    "    A2_chap=np.zeros(n)\n",
    "    B1_chap=np.zeros(n)\n",
    "    B2_chap=np.zeros(n)\n",
    "\n",
    "\n",
    "    for k0 in range(4,n-4):    \n",
    "        Y=F(k0,n)\n",
    "        hbar[k0]=(1/k0)*sum(np.log(np.array(sorted(X[:k0]))))\n",
    "        Ybar[k0]=(1/k0)*sum(Y[:k0])\n",
    "        hbar_etoile[k0]=(1/(n-k0))*sum(np.log(np.array(sorted(X[k0:]))))\n",
    "        Ybar_etoile[k0]=(1/(n-k0))*sum(np.array(Y[k0:]))\n",
    "\n",
    "        #estimation des A1 B1 A2 B2\n",
    "        \n",
    "        #estimation A1\n",
    "        A1_chap_nom[k0]=sum((np.log(np.array(sorted(X[:k0])))-hbar[k0])*(np.array(Y[:k0])-np.array(Ybar[k0])))\n",
    "        A1_chap_denom[k0]=sum((np.log(np.array(sorted(X[:k0])))-hbar[k0])**2)\n",
    "        A1_chap[k0]=A1_chap_nom[k0]/A1_chap_denom[k0]\n",
    "        \n",
    "        #estimation B1\n",
    "        B1_chap[k0]=Ybar[k0]-A1_chap[k0]*hbar[k0]\n",
    "        \n",
    "        #estimation A2\n",
    "        \n",
    "        A2_chap_nom[k0]=sum((np.log(np.array(sorted(X[k0:])))-hbar_etoile[k0])*(np.array(Y[k0:])-np.array(Ybar_etoile[k0])))\n",
    "        A2_chap_denom[k0]=sum((np.log(sorted(X[k0:]))-hbar_etoile[k0])**2)\n",
    "        A2_chap[k0]=A2_chap_nom[k0]/A2_chap_denom[k0]\n",
    "\n",
    "        #estimation B2\n",
    "        B2_chap[k0]=Ybar_etoile[k0]-A2_chap[k0]*hbar_etoile[k0]\n",
    "        \n",
    "    result=[A1_chap,B1_chap,A2_chap,B2_chap]\n",
    "        \n",
    "    return result\n",
    "\n",
    "def ln(x):\n",
    "    return np.log(x)\n",
    "def MR(i,k0,n):\n",
    "    if i <= k0:\n",
    "        return (i-0.3)/(k0+0.4)\n",
    "    else :\n",
    "        return (i-k0-0.3)/(n-k0+0.4)\n",
    "    \n",
    "def F(k0,n):\n",
    "    Zt=[ ln(-ln(1-MR(i,k0,n))) for i in range(1,n+1)] \n",
    "    return Zt\n",
    "\n",
    "def estimation_abk(X):\n",
    "    [A1t,B1t,A2t,B2t]=estimationAB(X)\n",
    "    k=Calcul_K_Etoile(B1t,A1t,B2t,A2t,X)\n",
    "    [A1,B1,A2,B2]=estimation_finaleAB(X)\n",
    "    param1={\"a1\": math.exp(-B1/A1),\"b1\": A1,\"a2\": math.exp(-B2/A2),\"b2\": A2, \"k*\": k}\n",
    "    return param1\n"
   ]
  },
  {
   "cell_type": "code",
   "execution_count": 3,
   "metadata": {},
   "outputs": [],
   "source": [
    "\n",
    "#Fonction qui renvoie le vecteur des Xhi_i,j(k0)\n",
    "def Calcul_Vect_E(k0,n,B1_k0,A1_k0,B2_k0,A2_k0,Y,X):\n",
    "    Vect_E_k0=[]\n",
    "    for i in range(0,k0):\n",
    "        X1=sorted(X[:k0])\n",
    "    \n",
    "        Vect_E_k0.append(Y[i]-B1_k0-A1_k0*np.log(X1[i]))\n",
    "    for i in range(k0,n):\n",
    "        X2=sorted(X[k0:])\n",
    "        Vect_E_k0.append(Y[i]-B2_k0-A2_k0*np.log(X2[i-k0]))\n",
    "    return(Vect_E_k0)\n",
    "\n",
    "\n",
    "\n",
    "#calcul de D avec k0, n et Vect_E_k0 qui représente un vecteur de taille n, où les k0 premier éléments correspondent aux Xhi_1,i(k0) \n",
    "#et les k0+1 à n représentent les Xhi_2,i(k0)\n",
    "\n",
    "def Calcul_D(k0,n,Vect_E_k0):\n",
    "    D=0\n",
    "    for i in range(0,k0) :    ## i va de 0 à k0-1, donc on récupère les éléments de vect_E de i allant de 1 à k0\n",
    "        D=D+(Vect_E_k0[i])**2\n",
    "    \n",
    "    for i in range(k0,n):\n",
    "        D=D+(Vect_E_k0[i])**2\n",
    "    \n",
    "    return(D)"
   ]
  },
  {
   "cell_type": "code",
   "execution_count": 4,
   "metadata": {},
   "outputs": [],
   "source": [
    "#Fonction qui calcul K*\n",
    "def Calcul_K_Etoile(B1,A1,B2,A2,X):\n",
    "    n=len(X)\n",
    "    D=np.zeros(n-8)  #Pour avoir un vecteur D de la bonne taille\n",
    "    for i in range(4,n-4):\n",
    "        Y=F(i,n)\n",
    "        D[i-4]=Calcul_D(i,n,Calcul_Vect_E(i,n,B1[i],A1[i],B2[i],A2[i],Y,X))\n",
    "    \n",
    "    k_etoile=np.argmin(D)+4\n",
    "    return k_etoile"
   ]
  },
  {
   "cell_type": "code",
   "execution_count": 5,
   "metadata": {},
   "outputs": [],
   "source": [
    "#Estimation des A1 B1 A2 B2 finaux\n",
    "def estimation_finaleAB(X):\n",
    "    A1=estimationAB(X)[0]\n",
    "    B1=estimationAB(X)[1]\n",
    "    A2=estimationAB(X)[2]\n",
    "    B2=estimationAB(X)[3]\n",
    "    k=Calcul_K_Etoile(B1,A1,B2,A2,X)\n",
    "    \n",
    "    result=[A1[k],B1[k],A2[k],B2[k]]\n",
    "    return result\n",
    "    \n",
    "    "
   ]
  },
  {
   "cell_type": "markdown",
   "metadata": {},
   "source": [
    "# Test de methode analytique avec données dans papier change weibull\n"
   ]
  },
  {
   "cell_type": "code",
   "execution_count": 6,
   "metadata": {},
   "outputs": [
    {
     "data": {
      "text/plain": [
       "{'a1': 5.780123489415348,\n",
       " 'b1': 6.154549967170994,\n",
       " 'a2': 10.163006246696888,\n",
       " 'b2': 9.825842919819664,\n",
       " 'k*': 13}"
      ]
     },
     "execution_count": 6,
     "metadata": {},
     "output_type": "execute_result"
    }
   ],
   "source": [
    "myX=np.array([5.66  , 4.78 , 5.49  , 6.30  , 4.69 ,\n",
    "              7.29  , 4.02 , 5.01  , 5.59  , 3.79 , \n",
    "              5.48  , 5.48 , 6.37  , 8.94  , 8.81 , \n",
    "              11.09 , 8.17 , 9.86  , 10.31 , 9.72 ,\n",
    "              10.12 , 9.66 , 9.89  , 10.40 , 10.01, \n",
    "             8.47  , 7.14 , 10.30 , 11.20 , 10.44])\n",
    "\n",
    "\n",
    "\n",
    "estimation_abk(myX)"
   ]
  },
  {
   "cell_type": "markdown",
   "metadata": {},
   "source": [
    "# methode log vraisemblance"
   ]
  },
  {
   "cell_type": "code",
   "execution_count": 7,
   "metadata": {},
   "outputs": [],
   "source": [
    "def f(data,parametre):\n",
    "    \n",
    "    b1 = parametre[0]\n",
    "    a1 = parametre[1]\n",
    "    \n",
    "    n = len(data)\n",
    "    \n",
    "    T1 = n*np.log(b1) - b1*n*np.log(a1)\n",
    "    \n",
    "    term11 = sum(np.log(np.array(data)))*(b1-1)\n",
    "    term21 = sum((np.array(data)/a1)**b1)\n",
    "    \n",
    "    s1 = T1 + term11 - term21\n",
    "    \n",
    "    return -s1"
   ]
  },
  {
   "cell_type": "code",
   "execution_count": 8,
   "metadata": {},
   "outputs": [],
   "source": [
    "def log_vraisemblance(data,k,parametre):\n",
    "    s1=f(data[:k],parametre[:2])\n",
    "    s2=f(data[k:],parametre[2:])\n",
    "    return s1+s2"
   ]
  },
  {
   "cell_type": "code",
   "execution_count": 9,
   "metadata": {},
   "outputs": [],
   "source": [
    "#fonction qui estime le moment de rupture ainsique les 4 parametre en fonction des données \n",
    "def estimateur(data):\n",
    "\n",
    "    n = len(data)\n",
    "    x0 = [1,1,1,1]\n",
    "    #np.random.randint(100, size=4)\n",
    "    #print(x0)\n",
    "    k = 0\n",
    "    m = np.infty\n",
    "    \n",
    "    \n",
    "    for i in tqdm(range(4, n-4)):\n",
    "        \n",
    "        optim = minimize(lambda x: log_vraisemblance(data, i, x), x0, method=\"nelder-mead\", tol=1e-10) \n",
    "        a = log_vraisemblance(data,i,optim.x)\n",
    "                \n",
    "        if a<m:\n",
    "            \n",
    "            m = a\n",
    "            k = i\n",
    "    \n",
    "    optim1 = minimize(lambda x: f(data[:k], x), x0[:2], method=\"nelder-mead\", tol=1e-10)\n",
    "    optim2 = minimize(lambda x: f(data[k:], x), x0[2:], method=\"nelder-mead\", tol=1e-10)\n",
    "\n",
    "    #print(optim)\n",
    "\n",
    "    #result = np.concatenate(([k], optim1.x, optim2.x), axis = 0)\n",
    "    param1={\"a1\": optim1.x[1],\"b1\": optim1.x[0],\"a2\":optim2.x[1],\"b2\": optim2.x[0], \"k*\": k}\n",
    "    return param1\n",
    "    "
   ]
  },
  {
   "cell_type": "markdown",
   "metadata": {},
   "source": [
    "# Test de methode log_vraisemblance avec données dans papier change weibull"
   ]
  },
  {
   "cell_type": "code",
   "execution_count": 40,
   "metadata": {},
   "outputs": [
    {
     "data": {
      "application/vnd.jupyter.widget-view+json": {
       "model_id": "4dbc3017571642d48170715da2801a6d",
       "version_major": 2,
       "version_minor": 0
      },
      "text/plain": [
       "HBox(children=(IntProgress(value=0, max=22), HTML(value='')))"
      ]
     },
     "metadata": {},
     "output_type": "display_data"
    },
    {
     "name": "stdout",
     "output_type": "stream",
     "text": [
      "\n"
     ]
    },
    {
     "data": {
      "text/plain": [
       "{'a1': 5.770345823995239,\n",
       " 'b1': 6.295665986406711,\n",
       " 'a2': 10.114161395675657,\n",
       " 'b2': 11.998723201215167,\n",
       " 'k*': 13}"
      ]
     },
     "execution_count": 40,
     "metadata": {},
     "output_type": "execute_result"
    }
   ],
   "source": [
    "estimateur(myX)"
   ]
  },
  {
   "cell_type": "markdown",
   "metadata": {},
   "source": [
    "# CAC 40: Recuperation des données "
   ]
  },
  {
   "cell_type": "code",
   "execution_count": 10,
   "metadata": {},
   "outputs": [],
   "source": [
    "\n",
    "import pandas \n",
    "import pandas as pd\n",
    "import datetime\n",
    "import pandas_datareader.data as web\n",
    "fichier_a_lire=\"Symbole.txt\"\n",
    "start=datetime.datetime(2017,6,1)\n",
    "end=datetime.datetime.today()\n",
    "\n",
    "action=pandas.read_csv(fichier_a_lire, sep='\\t', header=None,names=[\"symbole\"])\n",
    "actions=action['symbole'].tolist()\n"
   ]
  },
  {
   "cell_type": "code",
   "execution_count": 11,
   "metadata": {},
   "outputs": [],
   "source": [
    "Donnees={}\n",
    "for x in actions:\n",
    "    Donnees[x]=web.DataReader(x,'yahoo',start,end)['Adj Close'].dropna()"
   ]
  },
  {
   "cell_type": "code",
   "execution_count": 12,
   "metadata": {},
   "outputs": [],
   "source": [
    "Data_frame=pandas.DataFrame(Donnees,columns =actions)\n",
    "Data_frame.reset_index(inplace=True,drop=False)\n"
   ]
  },
  {
   "cell_type": "code",
   "execution_count": 13,
   "metadata": {},
   "outputs": [],
   "source": [
    "def Y(data):\n",
    "    Z=[np.log(1+data[i]/data[i-1]) for i in range(1,len(data))]\n",
    "    return(Z)"
   ]
  },
  {
   "cell_type": "code",
   "execution_count": 14,
   "metadata": {},
   "outputs": [],
   "source": [
    "Donnees_Y={}\n",
    "for x in actions:\n",
    "    Donnees_Y[x]=Y(Donnees[x])\n"
   ]
  },
  {
   "cell_type": "code",
   "execution_count": 15,
   "metadata": {},
   "outputs": [],
   "source": [
    "# tracée du cours des differentes actions de l'indice \n",
    "def cours_action(data,nom_action,k1,k2):\n",
    "    import datetime\n",
    "    start=datetime.datetime(2017,6,1)\n",
    "    end=datetime.datetime.today()\n",
    "    import matplotlib.pyplot as plt\n",
    "    fig=plt.figure(figsize=(16,9))\n",
    "    plt.gcf().subplots_adjust(bottom=0.25)\n",
    "    ax=fig.add_subplot(111)\n",
    "    ax.spines['top'].set_visible(False)\n",
    "    ax.spines['right'].set_visible(False)\n",
    "    ax.xaxis.set_ticks_position('bottom')\n",
    "    ax.yaxis.set_ticks_position('left')\n",
    "    ax.set_xlabel('Date')\n",
    "    ax.set_ylabel('Adjusted closing price')\n",
    "    time=Data_frame['Date']\n",
    "    plt.plot(time,data)\n",
    "    plt.vlines(time[k1], 0, max(data)+4, colors='r', linestyles= 'dashed',label='k1*=%s/%s/%s' %(time[k1].strftime(\"%d\"),time[k1].strftime(\"%m\"),time[k1].strftime(\"%Y\")))\n",
    "    plt.legend()\n",
    "    plt.vlines(time[k2], 0,max(data)+4, colors='g', linestyles= 'dashed',label='k2*=%s/%s/%s' %(time[k2].strftime(\"%d\"),time[k2].strftime(\"%m\"),time[k2].strftime(\"%Y\")))\n",
    "    plt.legend()\n",
    "    nom_png=nom_action+\".png\"\n",
    "    nom_cours=\"cours\"+nom_png\n",
    "    plt.title('Cours de l\\'action %s du %s/%s/%s au %s/%s/%s'%(nom_action,start.day,start.month,start.year,end.day,end.month,end.year))\n",
    "    #plt.savefig(nom_cours,format='png')\n",
    "    #plt.xlabel('Date',fontsize=16)\n",
    "    #plt.xlim([])\n",
    "    plt.show()\n",
    "    plt.close()\n",
    "\n"
   ]
  },
  {
   "cell_type": "markdown",
   "metadata": {},
   "source": [
    "# Test des deux  algos sur une entrepirse du cac 40"
   ]
  },
  {
   "cell_type": "code",
   "execution_count": 23,
   "metadata": {},
   "outputs": [
    {
     "name": "stdout",
     "output_type": "stream",
     "text": [
      "Methode analytique\n"
     ]
    },
    {
     "data": {
      "application/vnd.jupyter.widget-view+json": {
       "model_id": "7e1c16f185e6488b8ec25e34b29e16cf",
       "version_major": 2,
       "version_minor": 0
      },
      "text/plain": [
       "HBox(children=(IntProgress(value=0, max=727), HTML(value='')))"
      ]
     },
     "metadata": {},
     "output_type": "display_data"
    },
    {
     "name": "stdout",
     "output_type": "stream",
     "text": [
      "\n",
      "{'a1': 0.6971896593096307, 'b1': 84.9439000282031, 'a2': 0.7030562248360372, 'b2': 34.65942491034973, 'k*': 706}\n",
      "Methode logvraisemblance\n",
      "{'a1': 0.6969868364071007, 'b1': 109.91852254140413, 'a2': 0.7069645655949983, 'b2': 39.585966734954106, 'k*': 713}\n"
     ]
    }
   ],
   "source": [
    "\n",
    "T=estimateur(Donnees_Y['MC.PA'])\n",
    "\n",
    "\n",
    "Z=estimation_abk(Donnees_Y['MC.PA'])\n"
   ]
  },
  {
   "cell_type": "code",
   "execution_count": 38,
   "metadata": {},
   "outputs": [
    {
     "name": "stdout",
     "output_type": "stream",
     "text": [
      "\u001b[5;36;50m Methode analytique\n",
      "\u001b[5;37;50m {'a1': 0.6971896593096307, 'b1': 84.9439000282031, 'a2': 0.7030562248360372, 'b2': 34.65942491034973, 'k*': 706}\n",
      "\u001b[5;36;50m Methode logvraisemblance\n",
      "\u001b[5;37;50m {'a1': 0.6969868364071007, 'b1': 109.91852254140413, 'a2': 0.7069645655949983, 'b2': 39.585966734954106, 'k*': 713}\n"
     ]
    }
   ],
   "source": [
    "print(\"\\033[5;36;50m Methode analytique\")\n",
    "print(\"\\033[5;37;50m\",T)\n",
    "print(\"\\033[5;36;50m Methode logvraisemblance\")\n",
    "print(\"\\033[5;37;50m\",Z)\n"
   ]
  },
  {
   "cell_type": "markdown",
   "metadata": {},
   "source": [
    "# Test tracé sur l'action MC.PA"
   ]
  },
  {
   "cell_type": "code",
   "execution_count": 21,
   "metadata": {},
   "outputs": [
    {
     "data": {
      "image/png": "[encoded data removed]",
      "text/plain": [
       "<Figure size 1152x648 with 1 Axes>"
      ]
     },
     "metadata": {
      "needs_background": "light"
     },
     "output_type": "display_data"
    }
   ],
   "source": [
    "cours_action(Data_frame['MC.PA'],'MC.PA',T['k*'],Z['k*'])"
   ]
  },
  {
   "cell_type": "code",
   "execution_count": 39,
   "metadata": {},
   "outputs": [
    {
     "ename": "ValueError",
     "evalue": "If using all scalar values, you must pass an index",
     "output_type": "error",
     "traceback": [
      "\u001b[0;31m---------------------------------------------------------------------------\u001b[0m",
      "\u001b[0;31mValueError\u001b[0m                                Traceback (most recent call last)",
      "\u001b[0;32m<ipython-input-39-6a04d58cba07>\u001b[0m in \u001b[0;36m<module>\u001b[0;34m\u001b[0m\n\u001b[0;32m----> 1\u001b[0;31m \u001b[0mpd\u001b[0m\u001b[0;34m.\u001b[0m\u001b[0mDataFrame\u001b[0m\u001b[0;34m(\u001b[0m\u001b[0mT\u001b[0m\u001b[0;34m)\u001b[0m\u001b[0;34m\u001b[0m\u001b[0;34m\u001b[0m\u001b[0m\n\u001b[0m",
      "\u001b[0;32m/opt/anaconda3/lib/python3.7/site-packages/pandas/core/frame.py\u001b[0m in \u001b[0;36m__init__\u001b[0;34m(self, data, index, columns, dtype, copy)\u001b[0m\n\u001b[1;32m    409\u001b[0m             )\n\u001b[1;32m    410\u001b[0m         \u001b[0;32melif\u001b[0m \u001b[0misinstance\u001b[0m\u001b[0;34m(\u001b[0m\u001b[0mdata\u001b[0m\u001b[0;34m,\u001b[0m \u001b[0mdict\u001b[0m\u001b[0;34m)\u001b[0m\u001b[0;34m:\u001b[0m\u001b[0;34m\u001b[0m\u001b[0;34m\u001b[0m\u001b[0m\n\u001b[0;32m--> 411\u001b[0;31m             \u001b[0mmgr\u001b[0m \u001b[0;34m=\u001b[0m \u001b[0minit_dict\u001b[0m\u001b[0;34m(\u001b[0m\u001b[0mdata\u001b[0m\u001b[0;34m,\u001b[0m \u001b[0mindex\u001b[0m\u001b[0;34m,\u001b[0m \u001b[0mcolumns\u001b[0m\u001b[0;34m,\u001b[0m \u001b[0mdtype\u001b[0m\u001b[0;34m=\u001b[0m\u001b[0mdtype\u001b[0m\u001b[0;34m)\u001b[0m\u001b[0;34m\u001b[0m\u001b[0;34m\u001b[0m\u001b[0m\n\u001b[0m\u001b[1;32m    412\u001b[0m         \u001b[0;32melif\u001b[0m \u001b[0misinstance\u001b[0m\u001b[0;34m(\u001b[0m\u001b[0mdata\u001b[0m\u001b[0;34m,\u001b[0m \u001b[0mma\u001b[0m\u001b[0;34m.\u001b[0m\u001b[0mMaskedArray\u001b[0m\u001b[0;34m)\u001b[0m\u001b[0;34m:\u001b[0m\u001b[0;34m\u001b[0m\u001b[0;34m\u001b[0m\u001b[0m\n\u001b[1;32m    413\u001b[0m             \u001b[0;32mimport\u001b[0m \u001b[0mnumpy\u001b[0m\u001b[0;34m.\u001b[0m\u001b[0mma\u001b[0m\u001b[0;34m.\u001b[0m\u001b[0mmrecords\u001b[0m \u001b[0;32mas\u001b[0m \u001b[0mmrecords\u001b[0m\u001b[0;34m\u001b[0m\u001b[0;34m\u001b[0m\u001b[0m\n",
      "\u001b[0;32m/opt/anaconda3/lib/python3.7/site-packages/pandas/core/internals/construction.py\u001b[0m in \u001b[0;36minit_dict\u001b[0;34m(data, index, columns, dtype)\u001b[0m\n\u001b[1;32m    255\u001b[0m             \u001b[0marr\u001b[0m \u001b[0;32mif\u001b[0m \u001b[0;32mnot\u001b[0m \u001b[0mis_datetime64tz_dtype\u001b[0m\u001b[0;34m(\u001b[0m\u001b[0marr\u001b[0m\u001b[0;34m)\u001b[0m \u001b[0;32melse\u001b[0m \u001b[0marr\u001b[0m\u001b[0;34m.\u001b[0m\u001b[0mcopy\u001b[0m\u001b[0;34m(\u001b[0m\u001b[0;34m)\u001b[0m \u001b[0;32mfor\u001b[0m \u001b[0marr\u001b[0m \u001b[0;32min\u001b[0m \u001b[0marrays\u001b[0m\u001b[0;34m\u001b[0m\u001b[0;34m\u001b[0m\u001b[0m\n\u001b[1;32m    256\u001b[0m         ]\n\u001b[0;32m--> 257\u001b[0;31m     \u001b[0;32mreturn\u001b[0m \u001b[0marrays_to_mgr\u001b[0m\u001b[0;34m(\u001b[0m\u001b[0marrays\u001b[0m\u001b[0;34m,\u001b[0m \u001b[0mdata_names\u001b[0m\u001b[0;34m,\u001b[0m \u001b[0mindex\u001b[0m\u001b[0;34m,\u001b[0m \u001b[0mcolumns\u001b[0m\u001b[0;34m,\u001b[0m \u001b[0mdtype\u001b[0m\u001b[0;34m=\u001b[0m\u001b[0mdtype\u001b[0m\u001b[0;34m)\u001b[0m\u001b[0;34m\u001b[0m\u001b[0;34m\u001b[0m\u001b[0m\n\u001b[0m\u001b[1;32m    258\u001b[0m \u001b[0;34m\u001b[0m\u001b[0m\n\u001b[1;32m    259\u001b[0m \u001b[0;34m\u001b[0m\u001b[0m\n",
      "\u001b[0;32m/opt/anaconda3/lib/python3.7/site-packages/pandas/core/internals/construction.py\u001b[0m in \u001b[0;36marrays_to_mgr\u001b[0;34m(arrays, arr_names, index, columns, dtype)\u001b[0m\n\u001b[1;32m     75\u001b[0m     \u001b[0;31m# figure out the index, if necessary\u001b[0m\u001b[0;34m\u001b[0m\u001b[0;34m\u001b[0m\u001b[0;34m\u001b[0m\u001b[0m\n\u001b[1;32m     76\u001b[0m     \u001b[0;32mif\u001b[0m \u001b[0mindex\u001b[0m \u001b[0;32mis\u001b[0m \u001b[0;32mNone\u001b[0m\u001b[0;34m:\u001b[0m\u001b[0;34m\u001b[0m\u001b[0;34m\u001b[0m\u001b[0m\n\u001b[0;32m---> 77\u001b[0;31m         \u001b[0mindex\u001b[0m \u001b[0;34m=\u001b[0m \u001b[0mextract_index\u001b[0m\u001b[0;34m(\u001b[0m\u001b[0marrays\u001b[0m\u001b[0;34m)\u001b[0m\u001b[0;34m\u001b[0m\u001b[0;34m\u001b[0m\u001b[0m\n\u001b[0m\u001b[1;32m     78\u001b[0m     \u001b[0;32melse\u001b[0m\u001b[0;34m:\u001b[0m\u001b[0;34m\u001b[0m\u001b[0;34m\u001b[0m\u001b[0m\n\u001b[1;32m     79\u001b[0m         \u001b[0mindex\u001b[0m \u001b[0;34m=\u001b[0m \u001b[0mensure_index\u001b[0m\u001b[0;34m(\u001b[0m\u001b[0mindex\u001b[0m\u001b[0;34m)\u001b[0m\u001b[0;34m\u001b[0m\u001b[0;34m\u001b[0m\u001b[0m\n",
      "\u001b[0;32m/opt/anaconda3/lib/python3.7/site-packages/pandas/core/internals/construction.py\u001b[0m in \u001b[0;36mextract_index\u001b[0;34m(data)\u001b[0m\n\u001b[1;32m    356\u001b[0m \u001b[0;34m\u001b[0m\u001b[0m\n\u001b[1;32m    357\u001b[0m         \u001b[0;32mif\u001b[0m \u001b[0;32mnot\u001b[0m \u001b[0mindexes\u001b[0m \u001b[0;32mand\u001b[0m \u001b[0;32mnot\u001b[0m \u001b[0mraw_lengths\u001b[0m\u001b[0;34m:\u001b[0m\u001b[0;34m\u001b[0m\u001b[0;34m\u001b[0m\u001b[0m\n\u001b[0;32m--> 358\u001b[0;31m             \u001b[0;32mraise\u001b[0m \u001b[0mValueError\u001b[0m\u001b[0;34m(\u001b[0m\u001b[0;34m\"If using all scalar values, you must pass an index\"\u001b[0m\u001b[0;34m)\u001b[0m\u001b[0;34m\u001b[0m\u001b[0;34m\u001b[0m\u001b[0m\n\u001b[0m\u001b[1;32m    359\u001b[0m \u001b[0;34m\u001b[0m\u001b[0m\n\u001b[1;32m    360\u001b[0m         \u001b[0;32mif\u001b[0m \u001b[0mhave_series\u001b[0m\u001b[0;34m:\u001b[0m\u001b[0;34m\u001b[0m\u001b[0;34m\u001b[0m\u001b[0m\n",
      "\u001b[0;31mValueError\u001b[0m: If using all scalar values, you must pass an index"
     ]
    }
   ],
   "source": []
  },
  {
   "cell_type": "code",
   "execution_count": null,
   "metadata": {},
   "outputs": [],
   "source": []
  }
 ],
 "metadata": {
  "kernelspec": {
   "display_name": "Python 3",
   "language": "python",
   "name": "python3"
  },
  "language_info": {
   "codemirror_mode": {
    "name": "ipython",
    "version": 3
   },
   "file_extension": ".py",
   "mimetype": "text/x-python",
   "name": "python",
   "nbconvert_exporter": "python",
   "pygments_lexer": "ipython3",
   "version": "3.7.4"
  }
 },
 "nbformat": 4,
 "nbformat_minor": 4
}
